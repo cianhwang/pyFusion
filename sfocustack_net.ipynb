{
 "cells": [
  {
   "cell_type": "code",
   "execution_count": 12,
   "metadata": {},
   "outputs": [],
   "source": [
    "import torch\n",
    "import torch.nn as nn\n",
    "import torch.nn.functional as F\n",
    "import torch.optim as optim\n",
    "import matplotlib as mpl\n",
    "import matplotlib.pyplot as plt\n",
    "%matplotlib inline\n",
    "mpl.rcParams['figure.figsize'] = (20.0, 16.0)\n",
    "import numpy as np\n",
    "import cv2\n",
    "import os"
   ]
  },
  {
   "cell_type": "code",
   "execution_count": 2,
   "metadata": {},
   "outputs": [],
   "source": [
    "device = torch.device(\"cuda:0\")"
   ]
  },
  {
   "cell_type": "code",
   "execution_count": 3,
   "metadata": {},
   "outputs": [],
   "source": [
    "class encoder(nn.Module):\n",
    "    \n",
    "    def __init__(self):\n",
    "        super(encoder, self).__init__()\n",
    "        self.conv1 = nn.Conv2d(3, 16, 5, stride=2, padding=2)\n",
    "        self.conv2 = nn.Conv2d(16, 64, 5, stride=2, padding=2)\n",
    "        self.conv3 = nn.Conv2d(64, 128, 5, stride=4, padding=2)\n",
    "       \n",
    "    def forward(self, x):\n",
    "        x = F.relu(self.conv1(x))\n",
    "        x = F.relu(self.conv2(x))\n",
    "        x = F.relu(self.conv3(x))\n",
    "        \n",
    "        return x        "
   ]
  },
  {
   "cell_type": "code",
   "execution_count": 4,
   "metadata": {},
   "outputs": [],
   "source": [
    "class decoder(nn.Module):\n",
    "   \n",
    "    def __init__(self):\n",
    "        super(decoder, self).__init__()\n",
    "            \n",
    "        self.deconv4 = nn.ConvTranspose2d(256, 64, 4, stride=4)\n",
    "        self.deconv5 = nn.ConvTranspose2d(64, 16, 4, stride=4)\n",
    "        self.conv6 = nn.Conv2d(16, 1, 5, padding=2)        \n",
    "  \n",
    "    def forward(self, x):\n",
    "        x = F.relu(self.deconv4(x))\n",
    "        x = F.relu(self.deconv5(x))\n",
    "        x = F.tanh(self.conv6(x))\n",
    "        x = (x+1)/2\n",
    "        return x "
   ]
  },
  {
   "cell_type": "code",
   "execution_count": 5,
   "metadata": {},
   "outputs": [],
   "source": [
    "class mfnet(nn.Module):\n",
    "    \n",
    "    def __init__(self):\n",
    "        super(mfnet, self).__init__()\n",
    "        \n",
    "        self._encoder = encoder()\n",
    "        self._decoder = decoder()\n",
    "        \n",
    "    def forward(self, X1, X2, rtrn_feature = False):\n",
    "        x1 = self._encoder(X1)\n",
    "        x2 = self._encoder(X2)\n",
    "        x = torch.cat((x1, x2), 1)\n",
    "        x = self._decoder(x)\n",
    "        if rtrn_feature:\n",
    "            return x\n",
    "        x = x.repeat(1, 3, 1, 1)\n",
    "        x = x * X1 + (1 - x) * X2\n",
    "        return x"
   ]
  },
  {
   "cell_type": "code",
   "execution_count": 6,
   "metadata": {},
   "outputs": [
    {
     "name": "stdout",
     "output_type": "stream",
     "text": [
      "mfnet(\n",
      "  (_encoder): encoder(\n",
      "    (conv1): Conv2d(3, 16, kernel_size=(5, 5), stride=(2, 2), padding=(2, 2))\n",
      "    (conv2): Conv2d(16, 64, kernel_size=(5, 5), stride=(2, 2), padding=(2, 2))\n",
      "    (conv3): Conv2d(64, 128, kernel_size=(5, 5), stride=(4, 4), padding=(2, 2))\n",
      "  )\n",
      "  (_decoder): decoder(\n",
      "    (deconv4): ConvTranspose2d(256, 64, kernel_size=(4, 4), stride=(4, 4))\n",
      "    (deconv5): ConvTranspose2d(64, 16, kernel_size=(4, 4), stride=(4, 4))\n",
      "    (conv6): Conv2d(16, 1, kernel_size=(5, 5), stride=(1, 1), padding=(2, 2))\n",
      "  )\n",
      ")\n"
     ]
    }
   ],
   "source": [
    "net = mfnet().to(device)\n",
    "print(net)"
   ]
  },
  {
   "cell_type": "code",
   "execution_count": 7,
   "metadata": {},
   "outputs": [],
   "source": [
    "criterion = nn.MSELoss()\n",
    "optimizer = optim.Adam(net.parameters(), lr = 0.001)"
   ]
  },
  {
   "cell_type": "code",
   "execution_count": 8,
   "metadata": {},
   "outputs": [],
   "source": [
    "def readImg(path):\n",
    "    \n",
    "    I = cv2.imread(path)\n",
    "    I = cv2.cvtColor(I, cv2.COLOR_BGR2RGB)\n",
    "    I = np.transpose(I, (-1, 0, 1))/127.5-1\n",
    "    \n",
    "    return I\n",
    "\n",
    "def dataloader(path, batch_size = 32, isTest = False):\n",
    "    X1, X2, y = [], [], []\n",
    "    random_list = np.random.randint(1, 3201, size=batch_size)\n",
    "    if isTest:\n",
    "        random_list = np.arange(3201, 4001)\n",
    "    for i in random_list:\n",
    "        try:\n",
    "            xx1 = readImg(os.path.join(path, \"{:04d}_1.jpeg\".format(i)))\n",
    "            xx2 = readImg(os.path.join(path, \"{:04d}_2.jpeg\".format(i)))\n",
    "            yy = readImg(os.path.join(path, \"{:04d}_0.jpeg\".format(i)))\n",
    "        except:\n",
    "            print(\"errneous idx: \", i)\n",
    "        y.append(torch.Tensor(yy))\n",
    "        X1.append(torch.Tensor(xx1))\n",
    "        X2.append(torch.Tensor(xx2))\n",
    "    X1 = torch.stack(X1)\n",
    "    X2 = torch.stack(X2)\n",
    "    y = torch.stack(y)\n",
    "    return (X1, X2), y"
   ]
  },
  {
   "cell_type": "code",
   "execution_count": 9,
   "metadata": {},
   "outputs": [
    {
     "name": "stderr",
     "output_type": "stream",
     "text": [
      "/home/kyle/anaconda3/envs/pytorch/lib/python3.6/site-packages/torch/nn/functional.py:1374: UserWarning: nn.functional.tanh is deprecated. Use torch.tanh instead.\n",
      "  warnings.warn(\"nn.functional.tanh is deprecated. Use torch.tanh instead.\")\n"
     ]
    },
    {
     "name": "stdout",
     "output_type": "stream",
     "text": [
      "loss: 0.001129\n",
      "loss: 0.000592\n",
      "loss: 0.000670\n",
      "loss: 0.000478\n",
      "loss: 0.000608\n",
      "loss: 0.000724\n",
      "loss: 0.000595\n",
      "loss: 0.000502\n",
      "loss: 0.000312\n",
      "loss: 0.000540\n",
      "loss: 0.000623\n",
      "loss: 0.000559\n",
      "loss: 0.000513\n",
      "loss: 0.000537\n",
      "loss: 0.000378\n",
      "loss: 0.000515\n",
      "loss: 0.000478\n",
      "loss: 0.000586\n",
      "loss: 0.000406\n",
      "loss: 0.000308\n",
      "loss: 0.000560\n",
      "loss: 0.000406\n",
      "loss: 0.000512\n",
      "loss: 0.000430\n",
      "loss: 0.000415\n",
      "loss: 0.000545\n",
      "loss: 0.000345\n",
      "loss: 0.000379\n",
      "loss: 0.000390\n",
      "loss: 0.000493\n",
      "loss: 0.000441\n",
      "loss: 0.000365\n",
      "loss: 0.000350\n",
      "loss: 0.000367\n",
      "loss: 0.000404\n",
      "loss: 0.000553\n",
      "loss: 0.000448\n",
      "loss: 0.000427\n",
      "loss: 0.000414\n",
      "loss: 0.000397\n",
      "loss: 0.000400\n",
      "loss: 0.000430\n",
      "loss: 0.000381\n",
      "loss: 0.000456\n",
      "loss: 0.000393\n",
      "loss: 0.000663\n",
      "loss: 0.000431\n",
      "loss: 0.000482\n",
      "loss: 0.000478\n",
      "loss: 0.000483\n"
     ]
    }
   ],
   "source": [
    "for epoch in range(1000):\n",
    "    loss = 0.0\n",
    "    optimizer.zero_grad()\n",
    "    \n",
    "    (X1, X2), y = dataloader('../datasets/testcase_pro/')\n",
    "    y_pred = net(X1.to(device), X2.to(device))\n",
    "    \n",
    "    loss = criterion(y_pred, y.to(device))\n",
    "    loss.backward()\n",
    "    optimizer.step()\n",
    "\n",
    "    loss += loss.item()\n",
    "    \n",
    "    if epoch % 20 == 19:\n",
    "        print(\"loss: {:.6f}\".format(loss.item()/20))\n",
    "        loss = 0.0"
   ]
  },
  {
   "cell_type": "code",
   "execution_count": 10,
   "metadata": {},
   "outputs": [],
   "source": [
    "with torch.no_grad():\n",
    "    (X1, X2), y = dataloader('../datasets/testcase_pro/', isTest = True)\n",
    "    y_pred = net(X1.to(device), X2.to(device))\n",
    "    y_features = net(X1.to(device), X2.to(device), rtrn_feature = True)\n",
    "    \n",
    "y_prediction = y_pred.cpu().numpy()\n",
    "y_prediction = np.transpose(y_prediction, (0, 2, 3, 1))\n",
    "y_f = y_features.cpu().numpy()\n",
    "y_f = np.transpose(y_f, (0, 2, 3, 1))\n",
    "y = np.transpose(y, (0, 2, 3, 1))\n",
    "X1 = np.transpose(X1, (0, 2, 3, 1))\n",
    "X2 = np.transpose(X2, (0, 2, 3, 1))"
   ]
  },
  {
   "cell_type": "code",
   "execution_count": 13,
   "metadata": {},
   "outputs": [
    {
     "data": {
      "text/plain": [
       "<matplotlib.image.AxesImage at 0x7f41ee821be0>"
      ]
     },
     "execution_count": 13,
     "metadata": {},
     "output_type": "execute_result"
    },
    {
     "data": {
      "image/png": "[encoded data removed]",
      "text/plain": [
       "<Figure size 1440x1152 with 5 Axes>"
      ]
     },
     "metadata": {
      "needs_background": "light"
     },
     "output_type": "display_data"
    }
   ],
   "source": [
    "idx = 20\n",
    "fig, ax = plt.subplots(1, 5)\n",
    "ax[0].imshow(y_prediction[idx]/2+0.5)\n",
    "ax[1].imshow(y[idx]/2+0.5)\n",
    "ax[2].imshow(y_f[idx, :, :, 0])\n",
    "ax[3].imshow(X1[idx]/2+0.5)\n",
    "ax[4].imshow(X2[idx]/2+0.5)"
   ]
  },
  {
   "cell_type": "code",
   "execution_count": null,
   "metadata": {},
   "outputs": [],
   "source": []
  }
 ],
 "metadata": {
  "kernelspec": {
   "display_name": "Python 3",
   "language": "python",
   "name": "python3"
  },
  "language_info": {
   "codemirror_mode": {
    "name": "ipython",
    "version": 3
   },
   "file_extension": ".py",
   "mimetype": "text/x-python",
   "name": "python",
   "nbconvert_exporter": "python",
   "pygments_lexer": "ipython3",
   "version": "3.6.9"
  }
 },
 "nbformat": 4,
 "nbformat_minor": 2
}
