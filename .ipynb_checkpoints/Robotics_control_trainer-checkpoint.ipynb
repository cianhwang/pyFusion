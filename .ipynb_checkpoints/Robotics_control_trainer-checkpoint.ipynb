{
 "cells": [
  {
   "cell_type": "code",
   "execution_count": 1,
   "metadata": {},
   "outputs": [],
   "source": [
    "import torch\n",
    "import torch.optim as optim\n",
    "import os\n",
    "import time\n",
    "import warnings\n",
    "warnings.simplefilter(\"ignore\", UserWarning)\n",
    "import torchvision\n",
    "import utils\n",
    "from model import focusLocNet\n",
    "from tensorboardX import SummaryWriter\n",
    "from tqdm import tqdm"
   ]
  },
  {
   "cell_type": "code",
   "execution_count": 2,
   "metadata": {},
   "outputs": [],
   "source": [
    "class AverageMeter(object):\n",
    "    \"\"\"\n",
    "    Computes and stores the average and\n",
    "    current value.\n",
    "    \"\"\"\n",
    "    def __init__(self):\n",
    "        self.reset()\n",
    "\n",
    "    def reset(self):\n",
    "        self.val = 0\n",
    "        self.avg = 0\n",
    "        self.sum = 0\n",
    "        self.count = 0\n",
    "\n",
    "    def update(self, val, n=1):\n",
    "        self.val = val\n",
    "        self.sum += val * n\n",
    "        self.count += n\n",
    "        self.avg = self.sum / self.count"
   ]
  },
  {
   "cell_type": "code",
   "execution_count": 3,
   "metadata": {},
   "outputs": [],
   "source": [
    "class Trainer(object):\n",
    "    \n",
    "    def __init__(self, config, data_loader):\n",
    "        \n",
    "        self.config = config  \n",
    "        self.is_train = True\n",
    "        \n",
    "        if self.is_train: #\n",
    "            self.train_loader = data_loader\n",
    "            self.num_train = len(self.train_loader.dataset)\n",
    "        else:\n",
    "            self.test_loader = data_loader\n",
    "            self.num_test = len(self.test_loader.dataset)\n",
    "          \n",
    "        self.use_cuda = torch.cuda.is_available()\n",
    "        self.device = torch.device(\"cuda:0\" if self.use_cuda else \"cpu\")\n",
    "        self.ckpt_dir = \"./ckpt\"\n",
    "        self.resume = False\n",
    "        self.model_name = \"focusLocNet\"\n",
    "        self.use_tensorboard = True\n",
    "        self.is_plot = True\n",
    "        \n",
    "        if self.use_tensorboard:\n",
    "            tensorboard_dir = 'runs/robotics_focus_control'#self.logs_dir + self.model_name\n",
    "            print('[*] Saving tensorboard logs to {}'.format(tensorboard_dir))\n",
    "            if not os.path.exists(tensorboard_dir):\n",
    "                os.makedirs(tensorboard_dir)\n",
    "            self.writer = SummaryWriter(tensorboard_dir)\n",
    "        \n",
    "        self.model = focusLocNet().to(self.device)\n",
    "        \n",
    "        self.start_epoch = 0\n",
    "        self.epochs = 5\n",
    "        self.batch_size = 1\n",
    "        self.lr = 1e-4\n",
    "        self.optimizer= optim.Adam(filter(lambda p: p.requires_grad, self.model.parameters()), lr=self.lr)\n",
    "  \n",
    "\n",
    "    def train(self):\n",
    "        \"\"\"\n",
    "        Train the model on the training set.\n",
    "\n",
    "        A checkpoint of the model is saved after each epoch\n",
    "        and if the validation accuracy is improved upon,\n",
    "        a separate ckpt is created for use on the test set.\n",
    "        \"\"\"\n",
    "        # load the most recent checkpoint\n",
    "        if self.resume:\n",
    "            self.load_checkpoint()\n",
    "            \n",
    "        print(\"\\n[*] Train on {} samples.\".format(\n",
    "            self.num_train)\n",
    "        )\n",
    "           \n",
    "            \n",
    "        self.model.train()\n",
    "\n",
    "        for epoch in range(self.start_epoch, self.epochs):\n",
    "\n",
    "            print(\n",
    "                '\\nEpoch: {}/{} - LR: {:.6f}'.format(\n",
    "                    epoch+1, self.epochs, self.lr)\n",
    "            )\n",
    "\n",
    "            # train for 1 epoch\n",
    "            train_loss = self.train_one_epoch(epoch)\n",
    "\n",
    "            msg1 = \"train loss: {:.3f}\"\n",
    "            msg = msg1\n",
    "            print(msg.format(train_loss))\n",
    "\n",
    "            self.save_checkpoint(\n",
    "                {'epoch': epoch + 1,\n",
    "                 'model_state': self.model.state_dict(),\n",
    "                 'optim_state': self.optimizer.state_dict(),\n",
    "                 }\n",
    "            )\n",
    "    \n",
    "    def train_one_epoch(self, epoch):\n",
    "    \n",
    "        \"\"\"\n",
    "        Train the model for 1 epoch of the training set.\n",
    "\n",
    "        An epoch corresponds to one full pass through the entire\n",
    "        training set in successive mini-batches.\n",
    "\n",
    "        This is used by train() and should not be called manually.\n",
    "        \"\"\"\n",
    "        batch_time = AverageMeter()\n",
    "        losses = AverageMeter()\n",
    "        tic = time.time()\n",
    "        \n",
    "        with tqdm(total=self.num_train) as pbar:\n",
    "            for i, (y_train, dpt) in enumerate(self.train_loader):\n",
    "\n",
    "                y_train = y_train.to(self.device)\n",
    "                dpt = dpt.to(self.device)\n",
    "\n",
    "                self.batch_size = y_train.size()[0]\n",
    "                seq = y_train.size()[1]\n",
    "                self.model.init_hidden()\n",
    "\n",
    "                # data shape: y_train (B, Seq, C, H, W)\n",
    "                log_pi = []\n",
    "                J_est = []\n",
    "                J_prev = y_train[:, 0, ...] ## set J_prev to be first frame of the image sequences\n",
    "                J_est.append(J_prev)\n",
    "\n",
    "                for t in range(y_train.size()[1]-1):\n",
    "                    # for each time step: estimate, capture and fuse.\n",
    "                    mu, l, p = self.model(J_prev)\n",
    "                    log_pi.append(p)\n",
    "                    I = utils.getDefocuesImage(l, y_train[:, t+1, ...], dpt[:, t+1, ...])\n",
    "                    J_prev = utils.fuseTwoImages(I, J_prev)\n",
    "                    J_est.append(J_prev)\n",
    "\n",
    "                J_est = torch.stack(J_est, dim = 1)\n",
    "\n",
    "                log_pi = torch.stack(log_pi).transpose(1, 0)\n",
    "                R = -utils.reconsLoss(J_est, y_train)\n",
    "                R = R.unsqueeze(1).repeat(1, y_train.size()[1]-1)\n",
    "\n",
    "                ## Basic REINFORCE algorithm\n",
    "                loss = torch.sum(-log_pi*R, dim=1)\n",
    "                loss = torch.mean(loss, dim=0)\n",
    "\n",
    "                self.optimizer.zero_grad()\n",
    "                loss.backward()\n",
    "                self.optimizer.step()\n",
    "\n",
    "                losses.update(loss.item(), y_train.size()[0])\n",
    "\n",
    "                # measure elapsed time\n",
    "                toc = time.time()\n",
    "                batch_time.update(toc-tic)\n",
    "\n",
    "                pbar.set_description(\n",
    "                    (\n",
    "                        \"{:.1f}s - loss: {:.3f}\".format(\n",
    "                            (toc-tic), loss.item()\n",
    "                        )\n",
    "                    )\n",
    "                )\n",
    "                pbar.update(self.batch_size)\n",
    "\n",
    "                if self.use_tensorboard:\n",
    "                    iteration = epoch*len(self.train_loader) + i\n",
    "                    self.writer.add_scalar('train_loss', losses.avg, iteration)\n",
    "                    \n",
    "                    if self.is_plot:\n",
    "                        display_tensor = torch.cat([J_est[0],y_train[0]], dim = 0)\n",
    "                        display_grid = torchvision.utils.make_grid(display_tensor, nrow = seq)\n",
    "                        self.writer.add_image('pred-gt', display_grid, iteration)\n",
    "\n",
    "            return losses.avg\n",
    "    \n",
    "    \n",
    "    def test(self):\n",
    "        \n",
    "        self.load_checkpoint()\n",
    "        self.model.eval()\n",
    "        losses = AverageMeter()\n",
    "        \n",
    "        with torch.no_grad():\n",
    "            for i, (y_test, dpt) in enumerate(self.test_loader):\n",
    "\n",
    "                y_test = y_test.to(self.device)\n",
    "                dpt = dpt.to(self.device)\n",
    "\n",
    "                self.batch_size = y_test.size()[0]\n",
    "                self.model.init_hidden()\n",
    "\n",
    "                # data shape: y_train (B, Seq, C, H, W)\n",
    "                log_pi = []\n",
    "                J_est = []\n",
    "                J_prev = y_test[:, 0, ...] ## set J_prev to be first frame of the image sequences\n",
    "                J_est.append(J_prev)\n",
    "\n",
    "                for t in range(y_test.size()[1]-1):\n",
    "                    # for each time step: estimate, capture and fuse.\n",
    "                    mu, l, p = self.model(J_prev)\n",
    "                    log_pi.append(p)\n",
    "                    I = utils.getDefocuesImage(l, y_test[:, t+1, ...], dpt[:, t+1, ...])\n",
    "                    J_prev = utils.fuseTwoImages(I, J_prev)\n",
    "                    J_est.append(J_prev)\n",
    "\n",
    "                J_est = torch.stack(J_est, dim = 1)\n",
    "\n",
    "                log_pi = torch.stack(log_pi).transpose(1, 0)\n",
    "                R = -utils.reconsLoss(J_est, y_test)\n",
    "                R = R.unsqueeze(1).repeat(1, y_test.size()[1]-1)\n",
    "\n",
    "                ## Basic REINFORCE algorithm\n",
    "                loss = torch.sum(-log_pi*R, dim=1)\n",
    "                loss = torch.mean(loss, dim=0)\n",
    "\n",
    "                losses.update(loss.item(), y_test.size()[0])\n",
    "\n",
    "            return losses.avg\n",
    "    \n",
    "    def save_checkpoint(self, state):\n",
    "        \"\"\"\n",
    "        Save a copy of the model so that it can be loaded at a future\n",
    "        date.\n",
    "        \"\"\"\n",
    "        print(\"[*] Saving model to {}\".format(self.ckpt_dir))\n",
    "\n",
    "        filename = self.model_name + '_ckpt.pth.tar'\n",
    "        ckpt_path = os.path.join(self.ckpt_dir, filename)\n",
    "        torch.save(state, ckpt_path)\n",
    "        \n",
    "        print(\"[*] Saved model to {}\".format(self.ckpt_dir))\n",
    "\n",
    "    def load_checkpoint(self):\n",
    "        \n",
    "        print(\"[*] Loading model from {}\".format(self.ckpt_dir))\n",
    "        \n",
    "        filename = self.model_name + '_ckpt.pth.tar'\n",
    "        ckpt_path = os.path.join(self.ckpt_dir, filename)\n",
    "        ckpt = torch.load(ckpt_path)\n",
    "\n",
    "        # load variables from checkpoint\n",
    "        self.start_epoch = ckpt['epoch']\n",
    "        self.model.load_state_dict(ckpt['model_state'])\n",
    "        self.optimizer.load_state_dict(ckpt['optim_state'])   \n",
    "        \n",
    "        print(\"[*] Loaded model from {}\".format(self.ckpt_dir))\n",
    "    "
   ]
  },
  {
   "cell_type": "code",
   "execution_count": 4,
   "metadata": {},
   "outputs": [],
   "source": [
    "from torch.utils import data\n",
    "from torchvision import transforms\n",
    "\n",
    "class Dataset(data.Dataset):\n",
    "    \n",
    "    def __init__(self, gross, seq = 2, transform = None):\n",
    "        self.gross = gross\n",
    "        self.seq = seq\n",
    "        self.transform = transform\n",
    "        \n",
    "    def __len__(self):\n",
    "        return self.gross\n",
    "    \n",
    "    def __getitem__(self, index):\n",
    "        \n",
    "        # shape: (Seq, C, H, W)\n",
    "\n",
    "        X = torch.rand(self.seq , 3, 512, 896)\n",
    "        dpt = torch.rand(self.seq, 1, 512, 896)\n",
    "        \n",
    "        return (X, dpt)\n",
    "    \n",
    "'''\n",
    "Generate pseudo data for training.\n",
    "'''    \n",
    "\n",
    "dataset = Dataset(21, transform = transforms.Compose([\n",
    "        transforms.Normalize(mean=[0.485, 0.456, 0.406],\n",
    "                                 std=[0.229, 0.224, 0.225])]))\n",
    "\n",
    "params = {'batch_size':1, 'shuffle':True, 'num_workers':4}\n",
    "dataGenerator = data.DataLoader(dataset, **params)"
   ]
  },
  {
   "cell_type": "code",
   "execution_count": 5,
   "metadata": {},
   "outputs": [
    {
     "name": "stdout",
     "output_type": "stream",
     "text": [
      "[*] Saving tensorboard logs to runs/robotics_focus_control\n"
     ]
    }
   ],
   "source": [
    "trainer = Trainer(None, dataGenerator)"
   ]
  },
  {
   "cell_type": "code",
   "execution_count": 6,
   "metadata": {},
   "outputs": [
    {
     "name": "stderr",
     "output_type": "stream",
     "text": [
      "\r",
      "  0%|          | 0/21 [00:00<?, ?it/s]"
     ]
    },
    {
     "name": "stdout",
     "output_type": "stream",
     "text": [
      "\n",
      "[*] Train on 21 samples.\n",
      "\n",
      "Epoch: 1/5 - LR: 0.000100\n"
     ]
    },
    {
     "name": "stderr",
     "output_type": "stream",
     "text": [
      "34.7s - loss: 0.045: 100%|██████████| 21/21 [00:34<00:00,  1.67s/it] \n",
      "  0%|          | 0/21 [00:00<?, ?it/s]"
     ]
    },
    {
     "name": "stdout",
     "output_type": "stream",
     "text": [
      "train loss: 0.027\n",
      "[*] Saving model to ./ckpt\n",
      "[*] Saved model to ./ckpt\n",
      "\n",
      "Epoch: 2/5 - LR: 0.000100\n"
     ]
    },
    {
     "name": "stderr",
     "output_type": "stream",
     "text": [
      "34.9s - loss: -0.323: 100%|██████████| 21/21 [00:34<00:00,  1.68s/it]\n",
      "  0%|          | 0/21 [00:00<?, ?it/s]"
     ]
    },
    {
     "name": "stdout",
     "output_type": "stream",
     "text": [
      "train loss: 0.024\n",
      "[*] Saving model to ./ckpt\n",
      "[*] Saved model to ./ckpt\n",
      "\n",
      "Epoch: 3/5 - LR: 0.000100\n"
     ]
    },
    {
     "name": "stderr",
     "output_type": "stream",
     "text": [
      "34.7s - loss: -0.033: 100%|██████████| 21/21 [00:34<00:00,  1.68s/it]\n",
      "  0%|          | 0/21 [00:00<?, ?it/s]"
     ]
    },
    {
     "name": "stdout",
     "output_type": "stream",
     "text": [
      "train loss: 0.021\n",
      "[*] Saving model to ./ckpt\n",
      "[*] Saved model to ./ckpt\n",
      "\n",
      "Epoch: 4/5 - LR: 0.000100\n"
     ]
    },
    {
     "name": "stderr",
     "output_type": "stream",
     "text": [
      "34.8s - loss: 0.006: 100%|██████████| 21/21 [00:34<00:00,  1.67s/it] \n",
      "  0%|          | 0/21 [00:00<?, ?it/s]"
     ]
    },
    {
     "name": "stdout",
     "output_type": "stream",
     "text": [
      "train loss: 0.043\n",
      "[*] Saving model to ./ckpt\n",
      "[*] Saved model to ./ckpt\n",
      "\n",
      "Epoch: 5/5 - LR: 0.000100\n"
     ]
    },
    {
     "name": "stderr",
     "output_type": "stream",
     "text": [
      "34.8s - loss: 0.029: 100%|██████████| 21/21 [00:34<00:00,  1.66s/it] "
     ]
    },
    {
     "name": "stdout",
     "output_type": "stream",
     "text": [
      "train loss: 0.043\n",
      "[*] Saving model to ./ckpt\n",
      "[*] Saved model to ./ckpt\n"
     ]
    },
    {
     "name": "stderr",
     "output_type": "stream",
     "text": [
      "\n"
     ]
    }
   ],
   "source": [
    "trainer.train()"
   ]
  },
  {
   "cell_type": "code",
   "execution_count": null,
   "metadata": {},
   "outputs": [],
   "source": []
  }
 ],
 "metadata": {
  "kernelspec": {
   "display_name": "Python 3",
   "language": "python",
   "name": "python3"
  },
  "language_info": {
   "codemirror_mode": {
    "name": "ipython",
    "version": 3
   },
   "file_extension": ".py",
   "mimetype": "text/x-python",
   "name": "python",
   "nbconvert_exporter": "python",
   "pygments_lexer": "ipython3",
   "version": "3.6.9"
  }
 },
 "nbformat": 4,
 "nbformat_minor": 2
}
