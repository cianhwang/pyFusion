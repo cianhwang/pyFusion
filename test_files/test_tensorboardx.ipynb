{
 "cells": [
  {
   "cell_type": "code",
   "execution_count": 1,
   "metadata": {},
   "outputs": [],
   "source": [
    "import torch\n",
    "import torchvision.utils as vutils\n",
    "import numpy as np\n",
    "import torchvision.models as models\n",
    "from tensorboardX import SummaryWriter\n",
    "from torchvision import datasets\n",
    "import cv2"
   ]
  },
  {
   "cell_type": "code",
   "execution_count": 2,
   "metadata": {},
   "outputs": [],
   "source": [
    "writer = SummaryWriter('runs/exp1')\n"
   ]
  },
  {
   "cell_type": "code",
   "execution_count": 3,
   "metadata": {},
   "outputs": [],
   "source": [
    "LR = cv2.imread('lr_00005.png')[:, :, ::-1]/255.\n",
    "LR = torch.Tensor(LR.transpose(2, 0, 1))\n",
    "\n",
    "\n",
    "writer.add_image('imresult', LR, 1)"
   ]
  },
  {
   "cell_type": "code",
   "execution_count": 4,
   "metadata": {},
   "outputs": [],
   "source": [
    "HR = cv2.imread('hr_gt_00002.png')[:, :, ::-1]/255.\n",
    "HR = torch.Tensor(HR.transpose(2, 0, 1))\n",
    "\n",
    "writer.add_image('imresult', HR, 2)"
   ]
  },
  {
   "cell_type": "code",
   "execution_count": 5,
   "metadata": {},
   "outputs": [],
   "source": [
    "k = 1\n",
    "for i in range(10):\n",
    "    writer.add_scalar('training_loss', k/10, i)\n",
    "    k /= 10"
   ]
  },
  {
   "cell_type": "code",
   "execution_count": null,
   "metadata": {},
   "outputs": [],
   "source": []
  }
 ],
 "metadata": {
  "kernelspec": {
   "display_name": "Python 3",
   "language": "python",
   "name": "python3"
  },
  "language_info": {
   "codemirror_mode": {
    "name": "ipython",
    "version": 3
   },
   "file_extension": ".py",
   "mimetype": "text/x-python",
   "name": "python",
   "nbconvert_exporter": "python",
   "pygments_lexer": "ipython3",
   "version": "3.6.9"
  }
 },
 "nbformat": 4,
 "nbformat_minor": 2
}
