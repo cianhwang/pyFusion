{
 "cells": [
  {
   "cell_type": "code",
   "execution_count": null,
   "metadata": {},
   "outputs": [],
   "source": [
    "import torch\n",
    "from torch.utils import data\n",
    "from torchvision import transforms\n",
    "\n",
    "class train_dataset(data.Dataset):\n",
    "    \n",
    "    def __init__(self, data_dir, gross, seq = 5, transform = None):\n",
    "        self.data_dir = data_dir\n",
    "        self.gross = gross\n",
    "        self.seq = seq\n",
    "        self.transform = transform\n",
    "        \n",
    "    def __len__(self):\n",
    "        return self.gross\n",
    "    \n",
    "    def __getitem__(self, index):\n",
    "        \n",
    "        # shape: (Seq, C, H, W)\n",
    "\n",
    "        X = torch.rand(self.seq , 3, 512, 896)\n",
    "        dpt = torch.rand(self.seq, 1, 512, 896)\n",
    "        \n",
    "        return (X, dpt)\n",
    "\n",
    "def get_train_valid_loader(data_dir,\n",
    "                           batch_size,\n",
    "                           random_seed,\n",
    "                           valid_size=0.2,\n",
    "                           shuffle=True,\n",
    "                           num_workers=4,\n",
    "                           pin_memory=False):\n",
    "    \n",
    "    normalize = transforms.Normalize((0.1307,), (0.3081,))\n",
    "    trans = transforms.Compose([\n",
    "        transforms.ToTensor(), normalize,\n",
    "    ])\n",
    "    \n",
    "    train_data = train_dataset("
   ]
  }
 ],
 "metadata": {
  "kernelspec": {
   "display_name": "Python 3",
   "language": "python",
   "name": "python3"
  },
  "language_info": {
   "codemirror_mode": {
    "name": "ipython",
    "version": 3
   },
   "file_extension": ".py",
   "mimetype": "text/x-python",
   "name": "python",
   "nbconvert_exporter": "python",
   "pygments_lexer": "ipython3",
   "version": "3.6.9"
  }
 },
 "nbformat": 4,
 "nbformat_minor": 2
}
